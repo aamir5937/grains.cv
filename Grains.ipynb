{
 "cells": [
  {
   "cell_type": "code",
   "execution_count": null,
   "id": "f6f081d4",
   "metadata": {},
   "outputs": [],
   "source": [
    "pip install opencv-python"
   ]
  },
  {
   "cell_type": "code",
   "execution_count": 2,
   "id": "0600f380",
   "metadata": {},
   "outputs": [],
   "source": [
    "import cv2\n",
    "import matplotlib.pyplot as plt\n",
    "import numpy as np\n",
    "%matplotlib inline"
   ]
  },
  {
   "cell_type": "code",
   "execution_count": 3,
   "id": "b1c78a3a",
   "metadata": {},
   "outputs": [],
   "source": [
    "image = cv2.imread('grains.png')\n",
    "cv2.imshow('sample', image)\n",
    "# cv2.waitKey(5000)"
   ]
  },
  {
   "cell_type": "code",
   "execution_count": 4,
   "id": "657aea6c",
   "metadata": {},
   "outputs": [],
   "source": [
    "cv2.imshow??"
   ]
  },
  {
   "cell_type": "markdown",
   "id": "4222bc5b",
   "metadata": {},
   "source": [
    "## "
   ]
  },
  {
   "cell_type": "code",
   "execution_count": null,
   "id": "18947587",
   "metadata": {},
   "outputs": [],
   "source": [
    "import sys # to access the system\n",
    "import cv2\n",
    "img = cv2.imread(\"grains.png\", cv2.IMREAD_ANYCOLOR)\n",
    " \n",
    "while True:\n",
    "    cv2.imshow(\"grains\", img)\n",
    "    cv2.waitKey(0)\n",
    "    sys.exit() # to exit from all the processes\n",
    " \n",
    "cv2.destroyAllWindows() # destroy all windows"
   ]
  },
  {
   "cell_type": "code",
   "execution_count": null,
   "id": "4a44d27b",
   "metadata": {},
   "outputs": [],
   "source": [
    "# Extracting the height and width of an image\n",
    "h, w = image.shape[:2]\n",
    "# Displaying the height and width\n",
    "print(\"Height = {},  Width = {}\".format(h, w))"
   ]
  },
  {
   "cell_type": "code",
   "execution_count": null,
   "id": "74bdb73e",
   "metadata": {},
   "outputs": [],
   "source": [
    "(B, G, R) = image[100, 100]\n",
    "  \n",
    "# Displaying the pixel values\n",
    "print(\"R = {}, G = {}, B = {}\".format(R, G, B))\n",
    "  \n",
    "# We can also pass the channel to extract \n",
    "# the value for a specific channel\n",
    "B = image[100, 100, 0]\n",
    "print(\"B = {}\".format(B))"
   ]
  },
  {
   "cell_type": "code",
   "execution_count": null,
   "id": "f8b97262",
   "metadata": {},
   "outputs": [],
   "source": [
    "##Region of interest\n",
    "\n",
    "roi = image[100 : 500, 200 : 700]\n",
    "#roi"
   ]
  },
  {
   "cell_type": "code",
   "execution_count": null,
   "id": "2e7196f5",
   "metadata": {},
   "outputs": [],
   "source": [
    "resize = cv2.resize(image, (800, 800))\n",
    "#resize"
   ]
  },
  {
   "cell_type": "code",
   "execution_count": null,
   "id": "670c76a7",
   "metadata": {},
   "outputs": [],
   "source": [
    "# Calculating the ratio\n",
    "ratio = 800 / w\n",
    "  \n",
    "# Creating a tuple containing width and height\n",
    "dim = (800, int(h * ratio))\n",
    "  \n",
    "# Resizing the image\n",
    "resize_aspect = cv2.resize(image, dim)"
   ]
  },
  {
   "cell_type": "code",
   "execution_count": null,
   "id": "28d72a10",
   "metadata": {},
   "outputs": [],
   "source": [
    "\n",
    "# Calculating the center of the image\n",
    "center = (w // 2, h // 2)\n",
    "  \n",
    "# Generating a rotation matrix\n",
    "matrix = cv2.getRotationMatrix2D(center, -45, 1.0) \n",
    "  \n",
    "# Performing the affine transformation\n",
    "rotated = cv2.warpAffine(image, matrix, (w, h))\n",
    "cv2.imshow('grains',image)"
   ]
  },
  {
   "cell_type": "code",
   "execution_count": null,
   "id": "9f75b642",
   "metadata": {},
   "outputs": [],
   "source": [
    "print(\":\")"
   ]
  },
  {
   "cell_type": "code",
   "execution_count": null,
   "id": "13977062",
   "metadata": {},
   "outputs": [],
   "source": []
  },
  {
   "cell_type": "code",
   "execution_count": null,
   "id": "2c141ef9",
   "metadata": {},
   "outputs": [],
   "source": []
  }
 ],
 "metadata": {
  "kernelspec": {
   "display_name": "Python 3 (ipykernel)",
   "language": "python",
   "name": "python3"
  },
  "language_info": {
   "codemirror_mode": {
    "name": "ipython",
    "version": 3
   },
   "file_extension": ".py",
   "mimetype": "text/x-python",
   "name": "python",
   "nbconvert_exporter": "python",
   "pygments_lexer": "ipython3",
   "version": "3.9.12"
  }
 },
 "nbformat": 4,
 "nbformat_minor": 5
}
